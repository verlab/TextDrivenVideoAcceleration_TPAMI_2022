{
  "cells": [
    {
      "cell_type": "markdown",
      "metadata": {
        "id": "qjcovvZQ3e1f"
      },
      "source": [
        "Extract VDAN+ Features\n",
        "---\n",
        "\n",
        "  You can extract the VDAN+ features for a given video and document as follows:\n",
        "\n",
        "  - First, clone the repo and install the dependencies (you may need to restart the session after running the following command once):"
      ]
    },
    {
      "cell_type": "code",
      "execution_count": null,
      "metadata": {
        "id": "9zcTMFcg3dAf",
        "vscode": {
          "languageId": "python"
        }
      },
      "outputs": [],
      "source": [
        "! git clone https://github.com/verlab/TextDrivenVideoAcceleration_TPAMI_2022\n",
        "%cd TextDrivenVideoAcceleration_TPAMI_2022\n",
        "! pip install -r requirements.txt"
      ]
    },
    {
      "cell_type": "markdown",
      "metadata": {
        "id": "-Vl389214DKE"
      },
      "source": [
        "  - Then, download a pretrained VDAN model or train from scratch by following the training steps on the [GitHub page](). To download a pretrained model, run:"
      ]
    },
    {
      "cell_type": "code",
      "execution_count": null,
      "metadata": {
        "colab": {
          "base_uri": "https://localhost:8080/"
        },
        "id": "hgk9RTrf5NsO",
        "outputId": "84322e9e-af00-4bad-8ff7-4d8e2ac542e9",
        "vscode": {
          "languageId": "python"
        }
      },
      "outputs": [],
      "source": [
        "# Download the pretrained model\n",
        "%cd /content/TextDrivenVideoAcceleration_TPAMI_2022\n",
        "! wget -O semantic_encoding/models/vdan+_model_pretrained.pth https://github.com/verlab/TextDrivenVideoAcceleration_TPAMI_2022/releases/download/pre_release/vdan+_pretrained_model.pth"
      ]
    },
    {
      "cell_type": "markdown",
      "metadata": {
        "id": "1YHKX0No5R06"
      },
      "source": [
        "  - Finally, run the code (make sure you have `punkt`):"
      ]
    },
    {
      "cell_type": "code",
      "execution_count": null,
      "metadata": {
        "colab": {
          "base_uri": "https://localhost:8080/"
        },
        "id": "VvTKFkax4Hvp",
        "outputId": "ec3d7b1e-2cd9-4823-da59-65168215eacc",
        "vscode": {
          "languageId": "python"
        }
      },
      "outputs": [],
      "source": [
        "# Get punkt\n",
        "import nltk\n",
        "nltk.download('punkt')\n",
        "\n",
        "# Run the code\n",
        "%cd semantic_encoding/_utils\n",
        "! python extract_vdan_plus_feats.py -m ../models/vdan+_pretrained_model.pth -i <VIDEO_FILENAME> -u <DOCUMENT_FILENAME> -o <OUTPUT_FOLDER>"
      ]
    }
  ],
  "metadata": {
    "colab": {
      "collapsed_sections": [],
      "name": "extract_VDAN+_feats.ipynb",
      "provenance": [],
      "toc_visible": true
    },
    "kernelspec": {
      "display_name": "Python 3",
      "name": "python3"
    }
  },
  "nbformat": 4,
  "nbformat_minor": 0
}
